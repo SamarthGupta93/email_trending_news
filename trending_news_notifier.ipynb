{
 "cells": [
  {
   "cell_type": "code",
   "execution_count": 17,
   "metadata": {
    "collapsed": true
   },
   "outputs": [],
   "source": [
    "import bs4\n",
    "from bs4 import BeautifulSoup as soup\n",
    "import urllib"
   ]
  },
  {
   "cell_type": "code",
   "execution_count": 27,
   "metadata": {
    "collapsed": false
   },
   "outputs": [],
   "source": [
    "news_url=\"http://www.thehindu.com/news/international/\"\n",
    "req = urllib.request.Request(news_url, headers={'User-Agent' : \"Magic Browser\"}) \n",
    "html = urllib.request.urlopen( req ).read()"
   ]
  },
  {
   "cell_type": "code",
   "execution_count": 79,
   "metadata": {
    "collapsed": false
   },
   "outputs": [
    {
     "name": "stdout",
     "output_type": "stream",
     "text": [
      "\n",
      "Farewell, Korea: first of three straight Asian Olympics ends\n",
      "\n",
      "http://www.thehindu.com/news/international/farewell-korea-first-of-three-straight-asian-olympics-ends/article22849378.ece\n",
      "----------\n",
      "Political end to Olympics as South Korea says North open to talks with U.S..\n",
      "\n",
      "http://www.thehindu.com/news/international/north-korea-says-open-to-talks-with-united-states-south-koreas-presidential-office/article22850276.ece\n",
      "----------\n",
      "Tax cut brings $29bn to Buffett’s company\n",
      "\n",
      "http://www.thehindu.com/news/international/tax-cut-brings-29bn-to-buffetts-company/article22852609.ece\n",
      "----------\n",
      "UN’s truce call fails to stop strikes\n",
      "\n",
      "http://www.thehindu.com/news/international/uns-truce-call-fails-to-stop-strikes/article22852538.ece\n",
      "----------\n"
     ]
    }
   ],
   "source": [
    "htmlPage=soup(html,\"html.parser\")\n",
    "result = htmlPage.find_all(\"a\", {\"class\":\"story-thumb66-text\"})\n",
    "messageBody = ''\n",
    "for div in result:\n",
    "    #print(div.text)\n",
    "    #print(div['href'])\n",
    "    #print(\"-\"*10)\n",
    "    messageBody = messageBody + div.text + '\\n' + div['href'] + '\\n' + ('-'*10)\n",
    "print(messageBody)"
   ]
  },
  {
   "cell_type": "code",
   "execution_count": 78,
   "metadata": {
    "collapsed": false
   },
   "outputs": [],
   "source": [
    "import smtplib\n",
    "import email\n",
    "from email.mime.multipart import MIMEMultipart\n",
    "from email.mime.text import MIMEText"
   ]
  },
  {
   "cell_type": "code",
   "execution_count": 89,
   "metadata": {
    "collapsed": true
   },
   "outputs": [],
   "source": [
    "fromaddr = input(\"Enter login e-mail: \")\n",
    "frompass = input(\"Enter login password: \")\n",
    "toaddr = input(\"Enter to address: \")\n",
    "msg = MIMEMultipart()\n",
    "msg['From'] = fromaddr\n",
    "msg['To'] = toaddr\n",
    "msg['Subject'] = \"Trending international news\"\n",
    "msg.attach(MIMEText(messageBody, 'plain'))"
   ]
  },
  {
   "cell_type": "code",
   "execution_count": 90,
   "metadata": {
    "collapsed": false
   },
   "outputs": [
    {
     "data": {
      "text/plain": [
       "(221, b'2.0.0 closing connection 205sm14766727pfy.117 - gsmtp')"
      ]
     },
     "execution_count": 90,
     "metadata": {},
     "output_type": "execute_result"
    }
   ],
   "source": [
    "server = smtplib.SMTP('smtp.gmail.com', 587)\n",
    "server.starttls()\n",
    "server.login(fromaddr, frompass)\n",
    "text = msg.as_string()\n",
    "server.sendmail(fromaddr, toaddr, text)\n",
    "server.quit()"
   ]
  },
  {
   "cell_type": "code",
   "execution_count": null,
   "metadata": {
    "collapsed": true
   },
   "outputs": [],
   "source": []
  }
 ],
 "metadata": {
  "anaconda-cloud": {},
  "kernelspec": {
   "display_name": "Python [conda root]",
   "language": "python",
   "name": "conda-root-py"
  },
  "language_info": {
   "codemirror_mode": {
    "name": "ipython",
    "version": 3
   },
   "file_extension": ".py",
   "mimetype": "text/x-python",
   "name": "python",
   "nbconvert_exporter": "python",
   "pygments_lexer": "ipython3",
   "version": "3.5.2"
  },
  "varInspector": {
   "cols": {
    "lenName": 16,
    "lenType": 16,
    "lenVar": 40
   },
   "kernels_config": {
    "python": {
     "delete_cmd_postfix": "",
     "delete_cmd_prefix": "del ",
     "library": "var_list.py",
     "varRefreshCmd": "print(var_dic_list())"
    },
    "r": {
     "delete_cmd_postfix": ") ",
     "delete_cmd_prefix": "rm(",
     "library": "var_list.r",
     "varRefreshCmd": "cat(var_dic_list()) "
    }
   },
   "types_to_exclude": [
    "module",
    "function",
    "builtin_function_or_method",
    "instance",
    "_Feature"
   ],
   "window_display": false
  }
 },
 "nbformat": 4,
 "nbformat_minor": 1
}
